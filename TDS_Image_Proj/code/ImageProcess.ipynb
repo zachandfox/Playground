{
 "cells": [
  {
   "cell_type": "markdown",
   "metadata": {},
   "source": [
    "# ImageProcess.ipynb\n",
    "\n",
    "### This is an attempt to use Canny edge detection and Probabilistic Hough line transformation to programmatically turn the scanned images into square images with the proper orientation."
   ]
  },
  {
   "cell_type": "code",
   "execution_count": null,
   "metadata": {},
   "outputs": [],
   "source": [
    "# imports\n",
    "import cv2\n",
    "from matplotlib import pyplot as plt\n",
    "import os\n",
    "import numpy as np\n",
    "import random\n",
    "\n",
    "# location of the TDS images on disk - change this to match your own system!\n",
    "IMAGE_DIR = '/home/jaeger/dev/github.com/tds/Playground/TDS_Image_Proj/images'"
   ]
  },
  {
   "cell_type": "code",
   "execution_count": null,
   "metadata": {},
   "outputs": [],
   "source": [
    "# load an image from disk\n",
    "orig_img = cv2.imread(os.path.join(IMAGE_DIR, 'thefan2.jpg'))\n",
    "\n",
    "# save its size for later use\n",
    "cols, rows, channels = orig_img.shape\n",
    "\n",
    "# display the loaded image\n",
    "plt.figure(figsize=(8, 8), dpi=96)\n",
    "plt.imshow(orig_img)\n",
    "plt.show()"
   ]
  },
  {
   "cell_type": "code",
   "execution_count": null,
   "metadata": {},
   "outputs": [],
   "source": [
    "# get rotation matrix (2D affine rotation) (cv2.getRotationMatrix2D((center), angle, scale))\n",
    "M = cv2.getRotationMatrix2D((cols/2, rows/2), -90, 1)\n",
    "\n",
    "# warp the image using the calculated matrix (cv2.warpAffine(source, transformation matrix, (output size))\n",
    "img_rot = cv2.warpAffine(orig_img, M, (cols, rows))\n",
    "\n",
    "# display the newly-rotated image\n",
    "plt.figure(figsize=(8, 8), dpi=96)\n",
    "plt.imshow(img_rot)\n",
    "plt.show()"
   ]
  },
  {
   "cell_type": "code",
   "execution_count": null,
   "metadata": {},
   "outputs": [],
   "source": [
    "# convert it to grayscale\n",
    "gray_img = cv2.cvtColor(img_rot, cv2.COLOR_BGR2GRAY)\n",
    "\n",
    "# display the grayscale image\n",
    "plt.figure(figsize=(8, 8), dpi=96)\n",
    "plt.imshow(gray_img, cmap='gray')\n",
    "plt.show()"
   ]
  },
  {
   "cell_type": "code",
   "execution_count": null,
   "metadata": {},
   "outputs": [],
   "source": [
    "# find edges (Canny edge detection) (cv2.Canny(image, minval, maxval))\n",
    "edges = cv2.Canny(gray_img, 45, 165)\n",
    "\n",
    "# display edges\n",
    "plt.figure(figsize=(8, 8), dpi=96)\n",
    "plt.imshow(edges, cmap='gray')\n",
    "plt.show()"
   ]
  },
  {
   "cell_type": "code",
   "execution_count": null,
   "metadata": {},
   "outputs": [],
   "source": [
    "# make a copy of the rotated image on which to draw\n",
    "img_draw = img_rot\n",
    "\n",
    "# find lines (Probabilistic Hough Transformation) (cv2.HoughLinesP(image, rho, theta, threshold, lines, minlength, maxgap))\n",
    "lines = cv2.HoughLinesP(edges, 1, np.pi/180, 50, minLineLength=200, maxLineGap=80)\n",
    "if lines is not None:\n",
    "    for line in lines:\n",
    "        x1, y1, x2, y2 = line[0]\n",
    "        cv2.line(img_draw, (x1, y1), (x2, y2), (255, 255, 0), 1)\n",
    "        \n",
    "# display lines\n",
    "plt.figure(figsize=(8, 8), dpi=96)\n",
    "plt.imshow(img_draw)\n",
    "plt.show()"
   ]
  }
 ],
 "metadata": {
  "kernelspec": {
   "display_name": "Python 3",
   "language": "python",
   "name": "python3"
  },
  "language_info": {
   "codemirror_mode": {
    "name": "ipython",
    "version": 3
   },
   "file_extension": ".py",
   "mimetype": "text/x-python",
   "name": "python",
   "nbconvert_exporter": "python",
   "pygments_lexer": "ipython3",
   "version": "3.5.4"
  }
 },
 "nbformat": 4,
 "nbformat_minor": 2
}
